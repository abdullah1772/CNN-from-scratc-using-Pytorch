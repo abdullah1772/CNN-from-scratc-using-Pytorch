{
 "cells": [
  {
   "cell_type": "code",
   "execution_count": 1,
   "metadata": {
    "_cell_guid": "b1076dfc-b9ad-4769-8c92-a6c4dae69d19",
    "_uuid": "8f2839f25d086af736a60e9eeb907d3b93b6e0e5",
    "execution": {
     "iopub.execute_input": "2022-12-16T14:29:16.265585Z",
     "iopub.status.busy": "2022-12-16T14:29:16.265013Z",
     "iopub.status.idle": "2022-12-16T14:29:18.413809Z",
     "shell.execute_reply": "2022-12-16T14:29:18.412639Z",
     "shell.execute_reply.started": "2022-12-16T14:29:16.265451Z"
    }
   },
   "outputs": [],
   "source": [
    "import torch\n",
    "import numpy as np\n",
    "from torchvision import datasets\n",
    "import torchvision.transforms as transforms\n",
    "from torch.utils.data import DataLoader\n",
    "from torch.utils.data import random_split\n",
    "import torch.nn as nn\n",
    "from matplotlib import pyplot as plt\n",
    "from torch import flatten\n",
    "from sklearn.metrics import classification_report\n",
    "import torchvision as tv\n",
    "from sklearn.metrics import confusion_matrix\n",
    "import seaborn as sns"
   ]
  },
  {
   "cell_type": "code",
   "execution_count": 2,
   "metadata": {},
   "outputs": [],
   "source": [
    "#creating transformation to normalize data and convert it to tensor data\n",
    "transform = transforms.Compose([\n",
    "    transforms.ToTensor(),\n",
    "    transforms.Normalize(mean=[0.4914, 0.4822, 0.4465],std=[0.2023, 0.1994, 0.2010])\n",
    "    ])"
   ]
  },
  {
   "cell_type": "code",
   "execution_count": 3,
   "metadata": {
    "execution": {
     "iopub.execute_input": "2022-12-16T14:29:21.497679Z",
     "iopub.status.busy": "2022-12-16T14:29:21.497114Z",
     "iopub.status.idle": "2022-12-16T14:29:37.336804Z",
     "shell.execute_reply": "2022-12-16T14:29:37.335856Z",
     "shell.execute_reply.started": "2022-12-16T14:29:21.497637Z"
    }
   },
   "outputs": [
    {
     "name": "stdout",
     "output_type": "stream",
     "text": [
      "Files already downloaded and verified\n",
      "Files already downloaded and verified\n"
     ]
    }
   ],
   "source": [
    "#downloading CIFAR 10 train and test data \n",
    "train_data = datasets.CIFAR10('data', train=True,download=True, transform=transform)\n",
    "test_data = datasets.CIFAR10('data', train=False,download=True, transform=transform)"
   ]
  },
  {
   "cell_type": "code",
   "execution_count": 4,
   "metadata": {},
   "outputs": [],
   "source": [
    "#class labels of the dataset CIFAR 10\n",
    "classes = ['airplane', 'automobile', 'bird', 'cat', 'deer','dog', 'frog', 'horse', 'ship', 'truck']"
   ]
  },
  {
   "cell_type": "code",
   "execution_count": 5,
   "metadata": {
    "execution": {
     "iopub.execute_input": "2022-12-16T14:29:37.340979Z",
     "iopub.status.busy": "2022-12-16T14:29:37.339872Z",
     "iopub.status.idle": "2022-12-16T14:29:37.347546Z",
     "shell.execute_reply": "2022-12-16T14:29:37.346436Z",
     "shell.execute_reply.started": "2022-12-16T14:29:37.340909Z"
    }
   },
   "outputs": [
    {
     "name": "stdout",
     "output_type": "stream",
     "text": [
      "45000 5000\n"
     ]
    }
   ],
   "source": [
    "#calculating the size of training and validation data \n",
    "SizeOfTrain = len(train_data)\n",
    "SizeOfValidation = ((SizeOfTrain * 10) // 100)\n",
    "SizeOfTrain = SizeOfTrain - SizeOfValidation\n",
    "print(SizeOfTrain,SizeOfValidation) "
   ]
  },
  {
   "cell_type": "code",
   "execution_count": 6,
   "metadata": {
    "execution": {
     "iopub.execute_input": "2022-12-16T14:29:37.349210Z",
     "iopub.status.busy": "2022-12-16T14:29:37.348797Z",
     "iopub.status.idle": "2022-12-16T14:29:37.361498Z",
     "shell.execute_reply": "2022-12-16T14:29:37.360495Z",
     "shell.execute_reply.started": "2022-12-16T14:29:37.349175Z"
    }
   },
   "outputs": [],
   "source": [
    "#splittng train dataset into train and validation data\n",
    "train_data, validation_data = random_split(train_data, [SizeOfTrain, SizeOfValidation])"
   ]
  },
  {
   "cell_type": "code",
   "execution_count": 7,
   "metadata": {
    "execution": {
     "iopub.execute_input": "2022-12-16T14:29:37.364973Z",
     "iopub.status.busy": "2022-12-16T14:29:37.364608Z",
     "iopub.status.idle": "2022-12-16T14:29:37.370122Z",
     "shell.execute_reply": "2022-12-16T14:29:37.368962Z",
     "shell.execute_reply.started": "2022-12-16T14:29:37.364913Z"
    }
   },
   "outputs": [],
   "source": [
    "#loading datasets\n",
    "\n",
    "#dataloader for trainging data\n",
    "train_loader = DataLoader(train_data, batch_size=64,shuffle=True,)\n",
    "\n",
    "#dataloader for trainging data\n",
    "test_loader = DataLoader(test_data, batch_size=64,shuffle=True,)\n",
    "\n",
    "#dataloader for validation data\n",
    "val_loader = DataLoader(validation_data ,batch_size=64 ,shuffle=False,)"
   ]
  },
  {
   "cell_type": "code",
   "execution_count": 8,
   "metadata": {},
   "outputs": [],
   "source": [
    "dataiter = iter(train_loader)\n",
    "imgs, lbls = dataiter.next()"
   ]
  },
  {
   "cell_type": "code",
   "execution_count": 9,
   "metadata": {},
   "outputs": [],
   "source": [
    "def imshow(img,lbl):\n",
    "    img = img / 2 + 0.5   # unnormalize\n",
    "    npimg = img.numpy()   # convert from tensor\n",
    "    plt.imshow(np.transpose(npimg, (1, 2, 0))) \n",
    "    plt.title(lbl)\n",
    "    plt.show()"
   ]
  },
  {
   "cell_type": "code",
   "execution_count": 10,
   "metadata": {},
   "outputs": [
    {
     "name": "stderr",
     "output_type": "stream",
     "text": [
      "Clipping input data to the valid range for imshow with RGB data ([0..1] for floats or [0..255] for integers).\n"
     ]
    },
    {
     "data": {
      "image/png": "[encoded data removed]",
      "text/plain": [
       "<Figure size 432x288 with 1 Axes>"
      ]
     },
     "metadata": {
      "needs_background": "light"
     },
     "output_type": "display_data"
    },
    {
     "name": "stderr",
     "output_type": "stream",
     "text": [
      "Clipping input data to the valid range for imshow with RGB data ([0..1] for floats or [0..255] for integers).\n"
     ]
    },
    {
     "data": {
      "image/png": "[encoded data removed]",
      "text/plain": [
       "<Figure size 432x288 with 1 Axes>"
      ]
     },
     "metadata": {
      "needs_background": "light"
     },
     "output_type": "display_data"
    },
    {
     "name": "stderr",
     "output_type": "stream",
     "text": [
      "Clipping input data to the valid range for imshow with RGB data ([0..1] for floats or [0..255] for integers).\n"
     ]
    },
    {
     "data": {
      "image/png": "[encoded data removed]",
      "text/plain": [
       "<Figure size 432x288 with 1 Axes>"
      ]
     },
     "metadata": {
      "needs_background": "light"
     },
     "output_type": "display_data"
    },
    {
     "name": "stderr",
     "output_type": "stream",
     "text": [
      "Clipping input data to the valid range for imshow with RGB data ([0..1] for floats or [0..255] for integers).\n"
     ]
    },
    {
     "data": {
      "image/png": "[encoded data removed]",
      "text/plain": [
       "<Figure size 432x288 with 1 Axes>"
      ]
     },
     "metadata": {
      "needs_background": "light"
     },
     "output_type": "display_data"
    },
    {
     "name": "stderr",
     "output_type": "stream",
     "text": [
      "Clipping input data to the valid range for imshow with RGB data ([0..1] for floats or [0..255] for integers).\n"
     ]
    },
    {
     "data": {
      "image/png": "[encoded data removed]",
      "text/plain": [
       "<Figure size 432x288 with 1 Axes>"
      ]
     },
     "metadata": {
      "needs_background": "light"
     },
     "output_type": "display_data"
    },
    {
     "name": "stderr",
     "output_type": "stream",
     "text": [
      "Clipping input data to the valid range for imshow with RGB data ([0..1] for floats or [0..255] for integers).\n"
     ]
    },
    {
     "data": {
      "image/png": "[encoded data removed]",
      "text/plain": [
       "<Figure size 432x288 with 1 Axes>"
      ]
     },
     "metadata": {
      "needs_background": "light"
     },
     "output_type": "display_data"
    },
    {
     "name": "stderr",
     "output_type": "stream",
     "text": [
      "Clipping input data to the valid range for imshow with RGB data ([0..1] for floats or [0..255] for integers).\n"
     ]
    },
    {
     "data": {
      "image/png": "[encoded data removed]",
      "text/plain": [
       "<Figure size 432x288 with 1 Axes>"
      ]
     },
     "metadata": {
      "needs_background": "light"
     },
     "output_type": "display_data"
    },
    {
     "name": "stderr",
     "output_type": "stream",
     "text": [
      "Clipping input data to the valid range for imshow with RGB data ([0..1] for floats or [0..255] for integers).\n"
     ]
    },
    {
     "data": {
      "image/png": "[encoded data removed]",
      "text/plain": [
       "<Figure size 432x288 with 1 Axes>"
      ]
     },
     "metadata": {
      "needs_background": "light"
     },
     "output_type": "display_data"
    },
    {
     "name": "stderr",
     "output_type": "stream",
     "text": [
      "Clipping input data to the valid range for imshow with RGB data ([0..1] for floats or [0..255] for integers).\n"
     ]
    },
    {
     "data": {
      "image/png": "[encoded data removed]",
      "text/plain": [
       "<Figure size 432x288 with 1 Axes>"
      ]
     },
     "metadata": {
      "needs_background": "light"
     },
     "output_type": "display_data"
    },
    {
     "name": "stderr",
     "output_type": "stream",
     "text": [
      "Clipping input data to the valid range for imshow with RGB data ([0..1] for floats or [0..255] for integers).\n"
     ]
    },
    {
     "data": {
      "image/png": "[encoded data removed]",
      "text/plain": [
       "<Figure size 432x288 with 1 Axes>"
      ]
     },
     "metadata": {
      "needs_background": "light"
     },
     "output_type": "display_data"
    }
   ],
   "source": [
    "for i in range(10):\n",
    "    n = lbls[i].numpy()\n",
    "    img_lbl = classes[n]\n",
    "    imshow(tv.utils.make_grid(imgs[i]),img_lbl)"
   ]
  },
  {
   "cell_type": "code",
   "execution_count": 11,
   "metadata": {
    "execution": {
     "iopub.execute_input": "2022-12-16T14:29:37.372124Z",
     "iopub.status.busy": "2022-12-16T14:29:37.371738Z",
     "iopub.status.idle": "2022-12-16T14:29:37.444730Z",
     "shell.execute_reply": "2022-12-16T14:29:37.443704Z",
     "shell.execute_reply.started": "2022-12-16T14:29:37.372090Z"
    }
   },
   "outputs": [],
   "source": [
    "#checking if we have gpu and running the model on gpu else on cpu\n",
    "device = torch.device('cuda' if torch.cuda.is_available() else 'cpu')"
   ]
  },
  {
   "cell_type": "code",
   "execution_count": 12,
   "metadata": {
    "execution": {
     "iopub.execute_input": "2022-12-16T14:29:37.446835Z",
     "iopub.status.busy": "2022-12-16T14:29:37.446506Z",
     "iopub.status.idle": "2022-12-16T14:29:37.459202Z",
     "shell.execute_reply": "2022-12-16T14:29:37.458069Z",
     "shell.execute_reply.started": "2022-12-16T14:29:37.446801Z"
    }
   },
   "outputs": [],
   "source": [
    "# Creating a CNN class\n",
    "class CNN(nn.Module):\n",
    "#  Determine what layers and their order in CNN object \n",
    "    def __init__(self, num_classes):\n",
    "        super(CNN, self).__init__()\n",
    "        self.conv1 = nn.Conv2d(in_channels=3, out_channels=32, kernel_size=3)\n",
    "        self.conv2 = nn.Conv2d(in_channels=32, out_channels=32, kernel_size=3)\n",
    "        self.relu1 = nn.ReLU()\n",
    "        self.maxpool1 = nn.MaxPool2d(kernel_size = 2, stride = 2)\n",
    "        \n",
    "        self.conv3 = nn.Conv2d(in_channels=32, out_channels=64, kernel_size=3)\n",
    "        self.conv4 = nn.Conv2d(in_channels=64, out_channels=64, kernel_size=3)\n",
    "        self.relu2 = nn.ReLU()\n",
    "        self.maxpool2 = nn.MaxPool2d(kernel_size = 2, stride = 2)\n",
    "        \n",
    "        self.fc1 = nn.Linear(1600, 128)\n",
    "        self.relu3 = nn.ReLU()\n",
    "        self.fc2 = nn.Linear(128, num_classes)\n",
    "        self.logSoftmax = nn.LogSoftmax(dim=1)\n",
    "    \n",
    "    # moving data through the model layers   \n",
    "    def forward(self, x):\n",
    "        out = self.conv1(x)\n",
    "        out = self.conv2(out)\n",
    "        out = self.relu1(out)\n",
    "        out = self.maxpool1(out)\n",
    "        \n",
    "        out = self.conv3(out)\n",
    "        out = self.conv4(out)\n",
    "        out = self.relu2(out)\n",
    "        out = self.maxpool2(out)\n",
    "                \n",
    "        out = out.reshape(out.size(0), -1)\n",
    "        \n",
    "        out = self.fc1(out)\n",
    "        out = self.relu3(out)\n",
    "        out = self.fc2(out)\n",
    "        out = self.logSoftmax(out)\n",
    "        return out"
   ]
  },
  {
   "cell_type": "code",
   "execution_count": 13,
   "metadata": {
    "execution": {
     "iopub.execute_input": "2022-12-16T14:29:37.461239Z",
     "iopub.status.busy": "2022-12-16T14:29:37.460595Z",
     "iopub.status.idle": "2022-12-16T14:29:37.470200Z",
     "shell.execute_reply": "2022-12-16T14:29:37.469234Z",
     "shell.execute_reply.started": "2022-12-16T14:29:37.461202Z"
    }
   },
   "outputs": [],
   "source": [
    "#defining the num of calsses as 10 because CIFAR 10 has 10 classes \n",
    "num_classes = 10"
   ]
  },
  {
   "cell_type": "code",
   "execution_count": 14,
   "metadata": {
    "execution": {
     "iopub.execute_input": "2022-12-16T14:29:37.472115Z",
     "iopub.status.busy": "2022-12-16T14:29:37.471448Z",
     "iopub.status.idle": "2022-12-16T14:29:40.125640Z",
     "shell.execute_reply": "2022-12-16T14:29:40.124633Z",
     "shell.execute_reply.started": "2022-12-16T14:29:37.472079Z"
    }
   },
   "outputs": [
    {
     "data": {
      "text/plain": [
       "CNN(\n",
       "  (conv1): Conv2d(3, 32, kernel_size=(3, 3), stride=(1, 1))\n",
       "  (conv2): Conv2d(32, 32, kernel_size=(3, 3), stride=(1, 1))\n",
       "  (relu1): ReLU()\n",
       "  (maxpool1): MaxPool2d(kernel_size=2, stride=2, padding=0, dilation=1, ceil_mode=False)\n",
       "  (conv3): Conv2d(32, 64, kernel_size=(3, 3), stride=(1, 1))\n",
       "  (conv4): Conv2d(64, 64, kernel_size=(3, 3), stride=(1, 1))\n",
       "  (relu2): ReLU()\n",
       "  (maxpool2): MaxPool2d(kernel_size=2, stride=2, padding=0, dilation=1, ceil_mode=False)\n",
       "  (fc1): Linear(in_features=1600, out_features=128, bias=True)\n",
       "  (relu3): ReLU()\n",
       "  (fc2): Linear(in_features=128, out_features=10, bias=True)\n",
       "  (logSoftmax): LogSoftmax(dim=1)\n",
       ")"
      ]
     },
     "execution_count": 14,
     "metadata": {},
     "output_type": "execute_result"
    }
   ],
   "source": [
    "model = CNN(num_classes)\n",
    "model.to(device)"
   ]
  },
  {
   "cell_type": "code",
   "execution_count": 15,
   "metadata": {
    "execution": {
     "iopub.execute_input": "2022-12-16T14:29:40.127812Z",
     "iopub.status.busy": "2022-12-16T14:29:40.126964Z",
     "iopub.status.idle": "2022-12-16T14:29:40.134862Z",
     "shell.execute_reply": "2022-12-16T14:29:40.133504Z",
     "shell.execute_reply.started": "2022-12-16T14:29:40.127774Z"
    }
   },
   "outputs": [],
   "source": [
    "#defining the batch size\n",
    "batch_size = 64\n",
    "#defing our learning rate \n",
    "learning_rate = 0.0005\n",
    "#defining the no of epochs we need to run\n",
    "num_epochs = 30\n",
    "#defining loss fuction\n",
    "loss_fn = nn.CrossEntropyLoss()\n",
    "#defining adam optimizer\n",
    "optimizer = torch.optim.SGD(model.parameters(), lr=learning_rate ,weight_decay = 0.001, momentum = 0.9)\n",
    "# used for gradient scailing, prevents small gradients from vanishing or hitting 0\n",
    "scaler = torch.cuda.amp.GradScaler()"
   ]
  },
  {
   "cell_type": "code",
   "execution_count": 16,
   "metadata": {
    "execution": {
     "iopub.execute_input": "2022-12-16T15:17:47.188787Z",
     "iopub.status.busy": "2022-12-16T15:17:47.187688Z",
     "iopub.status.idle": "2022-12-16T15:24:59.223458Z",
     "shell.execute_reply": "2022-12-16T15:24:59.222337Z",
     "shell.execute_reply.started": "2022-12-16T15:17:47.188742Z"
    }
   },
   "outputs": [
    {
     "name": "stdout",
     "output_type": "stream",
     "text": [
      "EPOCH: 1/30\n",
      "Training loss: 24.9500, Training accuracy: 0.1639\n",
      "\n",
      "Validation loss: 0.0335, Validation accuracy: 0.2376\n",
      "\n",
      "EPOCH: 2/30\n",
      "Training loss: 21.8009, Training accuracy: 0.2937\n",
      "\n",
      "Validation loss: 0.0295, Validation accuracy: 0.3306\n",
      "\n",
      "EPOCH: 3/30\n",
      "Training loss: 19.4867, Training accuracy: 0.3683\n",
      "\n",
      "Validation loss: 0.0258, Validation accuracy: 0.4078\n",
      "\n",
      "EPOCH: 4/30\n",
      "Training loss: 17.3818, Training accuracy: 0.4308\n",
      "\n",
      "Validation loss: 0.0240, Validation accuracy: 0.4502\n",
      "\n",
      "EPOCH: 5/30\n",
      "Training loss: 16.2498, Training accuracy: 0.4696\n",
      "\n",
      "Validation loss: 0.0225, Validation accuracy: 0.4938\n",
      "\n",
      "EPOCH: 6/30\n",
      "Training loss: 15.3999, Training accuracy: 0.4986\n",
      "\n",
      "Validation loss: 0.0214, Validation accuracy: 0.5100\n",
      "\n",
      "EPOCH: 7/30\n",
      "Training loss: 14.6871, Training accuracy: 0.5235\n",
      "\n",
      "Validation loss: 0.0210, Validation accuracy: 0.5190\n",
      "\n",
      "EPOCH: 8/30\n",
      "Training loss: 14.0144, Training accuracy: 0.5497\n",
      "\n",
      "Validation loss: 0.0200, Validation accuracy: 0.5430\n",
      "\n",
      "EPOCH: 9/30\n",
      "Training loss: 13.4100, Training accuracy: 0.5722\n",
      "\n",
      "Validation loss: 0.0191, Validation accuracy: 0.5712\n",
      "\n",
      "EPOCH: 10/30\n",
      "Training loss: 12.8099, Training accuracy: 0.5920\n",
      "\n",
      "Validation loss: 0.0184, Validation accuracy: 0.5932\n",
      "\n",
      "EPOCH: 11/30\n",
      "Training loss: 12.3028, Training accuracy: 0.6084\n",
      "\n",
      "Validation loss: 0.0183, Validation accuracy: 0.5918\n",
      "\n",
      "EPOCH: 12/30\n",
      "Training loss: 11.8148, Training accuracy: 0.6265\n",
      "\n",
      "Validation loss: 0.0172, Validation accuracy: 0.6236\n",
      "\n",
      "EPOCH: 13/30\n",
      "Training loss: 11.3546, Training accuracy: 0.6414\n",
      "\n",
      "Validation loss: 0.0166, Validation accuracy: 0.6268\n",
      "\n",
      "EPOCH: 14/30\n",
      "Training loss: 10.8657, Training accuracy: 0.6571\n",
      "\n",
      "Validation loss: 0.0166, Validation accuracy: 0.6350\n",
      "\n",
      "EPOCH: 15/30\n",
      "Training loss: 10.5228, Training accuracy: 0.6687\n",
      "\n",
      "Validation loss: 0.0160, Validation accuracy: 0.6524\n",
      "\n",
      "EPOCH: 16/30\n",
      "Training loss: 10.0875, Training accuracy: 0.6826\n",
      "\n",
      "Validation loss: 0.0154, Validation accuracy: 0.6638\n",
      "\n",
      "EPOCH: 17/30\n",
      "Training loss: 9.7162, Training accuracy: 0.6950\n",
      "\n",
      "Validation loss: 0.0151, Validation accuracy: 0.6684\n",
      "\n",
      "EPOCH: 18/30\n",
      "Training loss: 9.3155, Training accuracy: 0.7107\n",
      "\n",
      "Validation loss: 0.0150, Validation accuracy: 0.6678\n",
      "\n",
      "EPOCH: 19/30\n",
      "Training loss: 9.0405, Training accuracy: 0.7186\n",
      "\n",
      "Validation loss: 0.0149, Validation accuracy: 0.6706\n",
      "\n",
      "EPOCH: 20/30\n",
      "Training loss: 8.6355, Training accuracy: 0.7310\n",
      "\n",
      "Validation loss: 0.0150, Validation accuracy: 0.6774\n",
      "\n",
      "EPOCH: 21/30\n",
      "Training loss: 8.3655, Training accuracy: 0.7408\n",
      "\n",
      "Validation loss: 0.0142, Validation accuracy: 0.6946\n",
      "\n",
      "EPOCH: 22/30\n",
      "Training loss: 8.0044, Training accuracy: 0.7512\n",
      "\n",
      "Validation loss: 0.0144, Validation accuracy: 0.6930\n",
      "\n",
      "EPOCH: 23/30\n",
      "Training loss: 7.7059, Training accuracy: 0.7585\n",
      "\n",
      "Validation loss: 0.0145, Validation accuracy: 0.6866\n",
      "\n",
      "EPOCH: 24/30\n",
      "Training loss: 7.4181, Training accuracy: 0.7701\n",
      "\n",
      "Validation loss: 0.0140, Validation accuracy: 0.6998\n",
      "\n",
      "EPOCH: 25/30\n",
      "Training loss: 7.1509, Training accuracy: 0.7768\n",
      "\n",
      "Validation loss: 0.0149, Validation accuracy: 0.6960\n",
      "\n",
      "EPOCH: 26/30\n",
      "Training loss: 6.8851, Training accuracy: 0.7851\n",
      "\n",
      "Validation loss: 0.0140, Validation accuracy: 0.7044\n",
      "\n",
      "EPOCH: 27/30\n",
      "Training loss: 6.5748, Training accuracy: 0.7963\n",
      "\n",
      "Validation loss: 0.0139, Validation accuracy: 0.7068\n",
      "\n",
      "EPOCH: 28/30\n",
      "Training loss: 6.3455, Training accuracy: 0.8021\n",
      "\n",
      "Validation loss: 0.0145, Validation accuracy: 0.6980\n",
      "\n",
      "EPOCH: 29/30\n",
      "Training loss: 6.0512, Training accuracy: 0.8101\n",
      "\n",
      "Validation loss: 0.0140, Validation accuracy: 0.7084\n",
      "\n",
      "EPOCH: 30/30\n",
      "Training loss: 5.8193, Training accuracy: 0.8184\n",
      "\n",
      "Validation loss: 0.0143, Validation accuracy: 0.7116\n",
      "\n"
     ]
    }
   ],
   "source": [
    "total_epochs = [*range(30)]\n",
    "train_loss_per_epoch = []\n",
    "validation_loss_per_epoch = []\n",
    "# Training the model\n",
    "for epoch in range(num_epochs):\n",
    "    print(\"EPOCH: {}/{}\".format(epoch + 1, num_epochs))\n",
    "    model.train()\n",
    "    \n",
    "    training_loss = 0.0\n",
    "    validation_loss = 0.0\n",
    "    \n",
    "    val_correct = 0\n",
    "    train_correct = 0\n",
    "    \n",
    "#Load the dataset using the train loader we defined earlier \n",
    "    for i, (images, labels) in enumerate(train_loader):  \n",
    "        # convert data into tensors based on device (gpu or cpu)\n",
    "        images = images.to(device)\n",
    "        labels = labels.to(device)\n",
    "        \n",
    "        # Forward pass\n",
    "        outputs = model(images)\n",
    "        loss = loss_fn(outputs, labels)\n",
    "        \n",
    "        # Backward and optimize\n",
    "        optimizer.zero_grad()\n",
    "        scaler.scale(loss).backward()\n",
    "        scaler.step(optimizer)\n",
    "        scaler.update()\n",
    "        \n",
    "        training_loss += loss.item()*(len(train_loader))\n",
    "        train_correct += (outputs.argmax(1) == labels).type(torch.float).sum().item()\n",
    "        \n",
    "    training_loss = training_loss/len(train_loader.dataset)\n",
    "    train_loss_per_epoch.append(training_loss)\n",
    "    train_correct = train_correct / SizeOfTrain\n",
    "    print(\"Training loss: {:.4f}, Training accuracy: {:.4f}\\n\".format(training_loss, train_correct))\n",
    "    \n",
    "    \n",
    "    with torch.no_grad():\n",
    "        model.eval()\n",
    "        for (img, lbl) in val_loader:\n",
    "            (img, lbl) = (img.to(device), lbl.to(device))\n",
    "            pred = model(img)\n",
    "            validation_loss += loss_fn(pred, lbl)\n",
    "            val_correct += (pred.argmax(1) == lbl).type(torch.float).sum().item()\n",
    "    \n",
    "    validation_loss = validation_loss / SizeOfValidation\n",
    "    validation_loss_per_epoch.append(validation_loss)\n",
    "    val_correct = val_correct / SizeOfValidation\n",
    "    print(\"Validation loss: {:.4f}, Validation accuracy: {:.4f}\\n\".format(validation_loss, val_correct))"
   ]
  },
  {
   "cell_type": "code",
   "execution_count": 17,
   "metadata": {
    "execution": {
     "iopub.execute_input": "2022-12-16T16:19:18.213710Z",
     "iopub.status.busy": "2022-12-16T16:19:18.213272Z",
     "iopub.status.idle": "2022-12-16T16:19:18.220070Z",
     "shell.execute_reply": "2022-12-16T16:19:18.219145Z",
     "shell.execute_reply.started": "2022-12-16T16:19:18.213672Z"
    }
   },
   "outputs": [
    {
     "name": "stdout",
     "output_type": "stream",
     "text": [
      "Accuracy of the model is =  71.16\n"
     ]
    }
   ],
   "source": [
    "print(\"Accuracy of the model is = \", val_correct * 100)"
   ]
  },
  {
   "cell_type": "code",
   "execution_count": 18,
   "metadata": {
    "execution": {
     "iopub.execute_input": "2022-12-16T15:42:45.842432Z",
     "iopub.status.busy": "2022-12-16T15:42:45.841506Z",
     "iopub.status.idle": "2022-12-16T15:42:45.849890Z",
     "shell.execute_reply": "2022-12-16T15:42:45.848646Z",
     "shell.execute_reply.started": "2022-12-16T15:42:45.842382Z"
    }
   },
   "outputs": [],
   "source": [
    "val_array = []\n",
    "for i in validation_loss_per_epoch:\n",
    "    val_array.append(i.cpu().data.numpy())"
   ]
  },
  {
   "cell_type": "code",
   "execution_count": 19,
   "metadata": {
    "execution": {
     "iopub.execute_input": "2022-12-16T15:43:15.096425Z",
     "iopub.status.busy": "2022-12-16T15:43:15.095762Z",
     "iopub.status.idle": "2022-12-16T15:43:15.442968Z",
     "shell.execute_reply": "2022-12-16T15:43:15.441869Z",
     "shell.execute_reply.started": "2022-12-16T15:43:15.096390Z"
    }
   },
   "outputs": [
    {
     "data": {
      "image/png": "[encoded data removed]",
      "text/plain": [
       "<Figure size 432x288 with 1 Axes>"
      ]
     },
     "metadata": {
      "needs_background": "light"
     },
     "output_type": "display_data"
    }
   ],
   "source": [
    "plt.plot(total_epochs, train_loss_per_epoch, label = \"Training Loss\")\n",
    "plt.plot(total_epochs, val_array, label = \"Validation Loss\")\n",
    "plt.legend()\n",
    "plt.xlabel(\"Epoch\")\n",
    "plt.ylabel(\"Loss\")\n",
    "plt.title(\"Model performance\")\n",
    "plt.show()"
   ]
  },
  {
   "cell_type": "code",
   "execution_count": 21,
   "metadata": {},
   "outputs": [],
   "source": [
    "Grount_truth = []\n",
    "Predicted_label = []\n",
    "with torch.no_grad():\n",
    "    # loop over the test set\n",
    "    for (image, label) in test_loader:\n",
    "        Ground_label = label.numpy()[0]\n",
    "        Grount_truth.append(Ground_label)\n",
    "        # send the input to the device and make predictions on it\n",
    "        image = image.to(device)\n",
    "        pred = model(image)\n",
    "        # find the class label index with the largest corresponding probability\n",
    "        pred_label = pred.argmax(axis=1).cpu().numpy()[0]\n",
    "        Predicted_label.append(pred_label)"
   ]
  },
  {
   "cell_type": "code",
   "execution_count": 22,
   "metadata": {},
   "outputs": [
    {
     "name": "stdout",
     "output_type": "stream",
     "text": [
      "              precision    recall  f1-score   support\n",
      "\n",
      "    airplane       0.65      0.79      0.71        19\n",
      "  automobile       0.71      0.71      0.71        14\n",
      "        bird       0.47      0.80      0.59        10\n",
      "         cat       0.38      0.46      0.41        13\n",
      "        deer       0.62      0.48      0.54        21\n",
      "         dog       0.75      0.46      0.57        13\n",
      "        frog       0.78      0.78      0.78        18\n",
      "       horse       0.75      0.67      0.71        18\n",
      "        ship       0.90      0.90      0.90        20\n",
      "       truck       0.89      0.73      0.80        11\n",
      "\n",
      "    accuracy                           0.68       157\n",
      "   macro avg       0.69      0.68      0.67       157\n",
      "weighted avg       0.70      0.68      0.68       157\n",
      "\n"
     ]
    }
   ],
   "source": [
    "print(classification_report(Grount_truth,Predicted_label,target_names=classes))"
   ]
  },
  {
   "cell_type": "code",
   "execution_count": 23,
   "metadata": {},
   "outputs": [
    {
     "data": {
      "image/png": "[encoded data removed]",
      "text/plain": [
       "<Figure size 1080x720 with 2 Axes>"
      ]
     },
     "metadata": {
      "needs_background": "light"
     },
     "output_type": "display_data"
    }
   ],
   "source": [
    "cm = confusion_matrix(Grount_truth,Predicted_label)\n",
    "fig , ax= plt.subplots(figsize=(15, 10))\n",
    "sns.heatmap(cm, cmap=plt.cm.Blues,annot = True,ax=ax)\n",
    "ax.set_xlabel('Predicted labels');ax.set_ylabel('True labels')\n",
    "ax.set_title('Confusion Matrix')\n",
    "ax.xaxis.set_ticklabels(classes)\n",
    "ax.yaxis.set_ticklabels(classes)\n",
    "plt.show()"
   ]
  },
  {
   "cell_type": "code",
   "execution_count": null,
   "metadata": {},
   "outputs": [],
   "source": []
  }
 ],
 "metadata": {
  "kernelspec": {
   "display_name": "Python 3 (ipykernel)",
   "language": "python",
   "name": "python3"
  },
  "language_info": {
   "codemirror_mode": {
    "name": "ipython",
    "version": 3
   },
   "file_extension": ".py",
   "mimetype": "text/x-python",
   "name": "python",
   "nbconvert_exporter": "python",
   "pygments_lexer": "ipython3",
   "version": "3.9.7"
  }
 },
 "nbformat": 4,
 "nbformat_minor": 4
}
