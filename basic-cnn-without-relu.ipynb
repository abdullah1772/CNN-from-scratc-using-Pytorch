{
 "cells": [
  {
   "cell_type": "code",
   "execution_count": 1,
   "metadata": {
    "_cell_guid": "b1076dfc-b9ad-4769-8c92-a6c4dae69d19",
    "_uuid": "8f2839f25d086af736a60e9eeb907d3b93b6e0e5",
    "execution": {
     "iopub.execute_input": "2022-12-20T09:05:37.856476Z",
     "iopub.status.busy": "2022-12-20T09:05:37.856023Z",
     "iopub.status.idle": "2022-12-20T09:05:38.828794Z",
     "shell.execute_reply": "2022-12-20T09:05:38.827787Z",
     "shell.execute_reply.started": "2022-12-20T09:05:37.856383Z"
    }
   },
   "outputs": [],
   "source": [
    "import torch\n",
    "import numpy as np\n",
    "from torchvision import datasets\n",
    "import torchvision.transforms as transforms\n",
    "from torch.utils.data import DataLoader\n",
    "from torch.utils.data import random_split\n",
    "import torch.nn as nn\n",
    "from matplotlib import pyplot as plt\n",
    "from sklearn.metrics import classification_report\n",
    "import torchvision as tv\n",
    "from sklearn.metrics import confusion_matrix\n",
    "import seaborn as sns"
   ]
  },
  {
   "cell_type": "code",
   "execution_count": 2,
   "metadata": {
    "execution": {
     "iopub.execute_input": "2022-12-20T09:05:38.831545Z",
     "iopub.status.busy": "2022-12-20T09:05:38.830940Z",
     "iopub.status.idle": "2022-12-20T09:05:38.839019Z",
     "shell.execute_reply": "2022-12-20T09:05:38.837911Z",
     "shell.execute_reply.started": "2022-12-20T09:05:38.831500Z"
    }
   },
   "outputs": [],
   "source": [
    "#creating transformation to normalize data and convert it to tensor data\n",
    "transform = transforms.Compose([\n",
    "    transforms.ToTensor(),\n",
    "    transforms.Normalize(mean=[0.4914, 0.4822, 0.4465],std=[0.2023, 0.1994, 0.2010])\n",
    "    ])"
   ]
  },
  {
   "cell_type": "code",
   "execution_count": 3,
   "metadata": {
    "execution": {
     "iopub.execute_input": "2022-12-20T09:05:38.840854Z",
     "iopub.status.busy": "2022-12-20T09:05:38.840407Z",
     "iopub.status.idle": "2022-12-20T09:05:40.523738Z",
     "shell.execute_reply": "2022-12-20T09:05:40.522702Z",
     "shell.execute_reply.started": "2022-12-20T09:05:38.840817Z"
    }
   },
   "outputs": [
    {
     "name": "stdout",
     "output_type": "stream",
     "text": [
      "Files already downloaded and verified\n",
      "Files already downloaded and verified\n"
     ]
    }
   ],
   "source": [
    "#downloading CIFAR 10 train and test data \n",
    "train_data = datasets.CIFAR10('data', train=True,download=True, transform=transform)\n",
    "test_data = datasets.CIFAR10('data', train=False,download=True, transform=transform)"
   ]
  },
  {
   "cell_type": "code",
   "execution_count": 4,
   "metadata": {
    "execution": {
     "iopub.execute_input": "2022-12-20T09:05:40.525734Z",
     "iopub.status.busy": "2022-12-20T09:05:40.525325Z",
     "iopub.status.idle": "2022-12-20T09:05:40.530927Z",
     "shell.execute_reply": "2022-12-20T09:05:40.529763Z",
     "shell.execute_reply.started": "2022-12-20T09:05:40.525691Z"
    }
   },
   "outputs": [],
   "source": [
    "#class labels of the dataset CIFAR 10\n",
    "classes = ['airplane', 'automobile', 'bird', 'cat', 'deer','dog', 'frog', 'horse', 'ship', 'truck']"
   ]
  },
  {
   "cell_type": "code",
   "execution_count": 5,
   "metadata": {
    "execution": {
     "iopub.execute_input": "2022-12-20T09:05:40.534659Z",
     "iopub.status.busy": "2022-12-20T09:05:40.534278Z",
     "iopub.status.idle": "2022-12-20T09:05:40.544168Z",
     "shell.execute_reply": "2022-12-20T09:05:40.542863Z",
     "shell.execute_reply.started": "2022-12-20T09:05:40.534622Z"
    }
   },
   "outputs": [
    {
     "name": "stdout",
     "output_type": "stream",
     "text": [
      "45000 5000\n"
     ]
    }
   ],
   "source": [
    "#calculating the size of training and validation data \n",
    "SizeOfTrain = len(train_data)\n",
    "SizeOfValidation = ((SizeOfTrain * 10) // 100)\n",
    "SizeOfTrain = SizeOfTrain - SizeOfValidation\n",
    "print(SizeOfTrain,SizeOfValidation) "
   ]
  },
  {
   "cell_type": "code",
   "execution_count": 6,
   "metadata": {
    "execution": {
     "iopub.execute_input": "2022-12-20T09:05:40.547000Z",
     "iopub.status.busy": "2022-12-20T09:05:40.546701Z",
     "iopub.status.idle": "2022-12-20T09:05:40.559194Z",
     "shell.execute_reply": "2022-12-20T09:05:40.558166Z",
     "shell.execute_reply.started": "2022-12-20T09:05:40.546973Z"
    }
   },
   "outputs": [],
   "source": [
    "#splittng train dataset into train and validation data\n",
    "train_data, validation_data = random_split(train_data, [SizeOfTrain, SizeOfValidation])"
   ]
  },
  {
   "cell_type": "code",
   "execution_count": 7,
   "metadata": {
    "execution": {
     "iopub.execute_input": "2022-12-20T09:05:40.561352Z",
     "iopub.status.busy": "2022-12-20T09:05:40.560853Z",
     "iopub.status.idle": "2022-12-20T09:05:40.567505Z",
     "shell.execute_reply": "2022-12-20T09:05:40.566283Z",
     "shell.execute_reply.started": "2022-12-20T09:05:40.561295Z"
    }
   },
   "outputs": [],
   "source": [
    "#loading datasets\n",
    "\n",
    "#dataloader for trainging data\n",
    "train_loader = DataLoader(train_data, batch_size=64,shuffle=True,)\n",
    "\n",
    "#dataloader for trainging data\n",
    "test_loader = DataLoader(test_data, batch_size=64,shuffle=True,)\n",
    "\n",
    "#dataloader for validation data\n",
    "val_loader = DataLoader(validation_data ,batch_size=64 ,shuffle=False,)"
   ]
  },
  {
   "cell_type": "code",
   "execution_count": 8,
   "metadata": {
    "execution": {
     "iopub.execute_input": "2022-12-20T09:05:40.570378Z",
     "iopub.status.busy": "2022-12-20T09:05:40.569446Z",
     "iopub.status.idle": "2022-12-20T09:05:40.601820Z",
     "shell.execute_reply": "2022-12-20T09:05:40.600871Z",
     "shell.execute_reply.started": "2022-12-20T09:05:40.570340Z"
    }
   },
   "outputs": [],
   "source": [
    "dataiter = iter(train_loader)\n",
    "imgs, lbls = dataiter.next()"
   ]
  },
  {
   "cell_type": "code",
   "execution_count": 9,
   "metadata": {
    "execution": {
     "iopub.execute_input": "2022-12-20T09:05:40.603340Z",
     "iopub.status.busy": "2022-12-20T09:05:40.602967Z",
     "iopub.status.idle": "2022-12-20T09:05:40.611285Z",
     "shell.execute_reply": "2022-12-20T09:05:40.610266Z",
     "shell.execute_reply.started": "2022-12-20T09:05:40.603303Z"
    }
   },
   "outputs": [],
   "source": [
    "def imshow(img,lbl):\n",
    "    img = img / 2 + 0.5   # unnormalize\n",
    "    npimg = img.numpy()   # convert from tensor\n",
    "    plt.imshow(np.transpose(npimg, (1, 2, 0))) \n",
    "    plt.title(lbl)\n",
    "    plt.show()"
   ]
  },
  {
   "cell_type": "code",
   "execution_count": 10,
   "metadata": {
    "execution": {
     "iopub.execute_input": "2022-12-20T09:05:40.613383Z",
     "iopub.status.busy": "2022-12-20T09:05:40.613015Z",
     "iopub.status.idle": "2022-12-20T09:05:42.605548Z",
     "shell.execute_reply": "2022-12-20T09:05:42.604605Z",
     "shell.execute_reply.started": "2022-12-20T09:05:40.613349Z"
    }
   },
   "outputs": [
    {
     "data": {
      "image/png": "[encoded data removed]",
      "text/plain": [
       "<Figure size 432x288 with 1 Axes>"
      ]
     },
     "metadata": {
      "needs_background": "light"
     },
     "output_type": "display_data"
    },
    {
     "data": {
      "image/png": "[encoded data removed]",
      "text/plain": [
       "<Figure size 432x288 with 1 Axes>"
      ]
     },
     "metadata": {
      "needs_background": "light"
     },
     "output_type": "display_data"
    },
    {
     "data": {
      "image/png": "[encoded data removed]",
      "text/plain": [
       "<Figure size 432x288 with 1 Axes>"
      ]
     },
     "metadata": {
      "needs_background": "light"
     },
     "output_type": "display_data"
    },
    {
     "data": {
      "image/png": "[encoded data removed]",
      "text/plain": [
       "<Figure size 432x288 with 1 Axes>"
      ]
     },
     "metadata": {
      "needs_background": "light"
     },
     "output_type": "display_data"
    },
    {
     "data": {
      "image/png": "[encoded data removed]",
      "text/plain": [
       "<Figure size 432x288 with 1 Axes>"
      ]
     },
     "metadata": {
      "needs_background": "light"
     },
     "output_type": "display_data"
    },
    {
     "data": {
      "image/png": "[encoded data removed]",
      "text/plain": [
       "<Figure size 432x288 with 1 Axes>"
      ]
     },
     "metadata": {
      "needs_background": "light"
     },
     "output_type": "display_data"
    },
    {
     "data": {
      "image/png": "[encoded data removed]",
      "text/plain": [
       "<Figure size 432x288 with 1 Axes>"
      ]
     },
     "metadata": {
      "needs_background": "light"
     },
     "output_type": "display_data"
    },
    {
     "data": {
      "image/png": "[encoded data removed]",
      "text/plain": [
       "<Figure size 432x288 with 1 Axes>"
      ]
     },
     "metadata": {
      "needs_background": "light"
     },
     "output_type": "display_data"
    },
    {
     "data": {
      "image/png": "[encoded data removed]",
      "text/plain": [
       "<Figure size 432x288 with 1 Axes>"
      ]
     },
     "metadata": {
      "needs_background": "light"
     },
     "output_type": "display_data"
    },
    {
     "data": {
      "image/png": "[encoded data removed]",
      "text/plain": [
       "<Figure size 432x288 with 1 Axes>"
      ]
     },
     "metadata": {
      "needs_background": "light"
     },
     "output_type": "display_data"
    }
   ],
   "source": [
    "for i in range(10):\n",
    "    n = lbls[i].numpy()\n",
    "    img_lbl = classes[n]\n",
    "    imshow(tv.utils.make_grid(imgs[i]),img_lbl)"
   ]
  },
  {
   "cell_type": "code",
   "execution_count": 11,
   "metadata": {
    "execution": {
     "iopub.execute_input": "2022-12-20T09:05:42.611862Z",
     "iopub.status.busy": "2022-12-20T09:05:42.609725Z",
     "iopub.status.idle": "2022-12-20T09:05:42.650411Z",
     "shell.execute_reply": "2022-12-20T09:05:42.649392Z",
     "shell.execute_reply.started": "2022-12-20T09:05:42.611823Z"
    }
   },
   "outputs": [],
   "source": [
    "#checking if we have gpu and running the model on gpu else on cpu\n",
    "device = torch.device('cuda' if torch.cuda.is_available() else 'cpu')"
   ]
  },
  {
   "cell_type": "code",
   "execution_count": 12,
   "metadata": {
    "execution": {
     "iopub.execute_input": "2022-12-20T09:05:42.657914Z",
     "iopub.status.busy": "2022-12-20T09:05:42.655467Z",
     "iopub.status.idle": "2022-12-20T09:05:42.665432Z",
     "shell.execute_reply": "2022-12-20T09:05:42.664381Z",
     "shell.execute_reply.started": "2022-12-20T09:05:42.657871Z"
    }
   },
   "outputs": [],
   "source": [
    "# # Creating a CNN class\n",
    "# class CNN(nn.Module):\n",
    "# #  Determine what layers and their order in CNN object \n",
    "#     def __init__(self, num_classes):\n",
    "#         super(CNN, self).__init__()\n",
    "#         self.conv1 = nn.Conv2d(in_channels=3, out_channels=32, kernel_size=3)\n",
    "#         self.conv2 = nn.Conv2d(in_channels=32, out_channels=32, kernel_size=3)\n",
    "#         self.relu1 = nn.ReLU()\n",
    "#         self.maxpool1 = nn.MaxPool2d(kernel_size = 2, stride = 2)\n",
    "        \n",
    "#         self.conv3 = nn.Conv2d(in_channels=32, out_channels=64, kernel_size=3)\n",
    "#         self.conv4 = nn.Conv2d(in_channels=64, out_channels=64, kernel_size=3)\n",
    "#         self.relu2 = nn.ReLU()\n",
    "#         self.maxpool2 = nn.MaxPool2d(kernel_size = 2, stride = 2)\n",
    "        \n",
    "#         self.fc1 = nn.Linear(1600, 128)\n",
    "#         self.relu3 = nn.ReLU()\n",
    "#         self.fc2 = nn.Linear(128, num_classes)\n",
    "#         self.logSoftmax = nn.LogSoftmax(dim=1)\n",
    "    \n",
    "#     # moving data through the model layers   \n",
    "#     def forward(self, x):\n",
    "#         out = self.conv1(x)\n",
    "#         out = self.conv2(out)\n",
    "#         out = self.relu1(out)\n",
    "#         out = self.maxpool1(out)\n",
    "        \n",
    "#         out = self.conv3(out)\n",
    "#         out = self.conv4(out)\n",
    "#         out = self.relu2(out)\n",
    "#         out = self.maxpool2(out)\n",
    "                \n",
    "#         out = out.reshape(out.size(0), -1)\n",
    "        \n",
    "#         out = self.fc1(out)\n",
    "#         out = self.relu3(out)\n",
    "#         out = self.fc2(out)\n",
    "#         out = self.logSoftmax(out)\n",
    "#         return out"
   ]
  },
  {
   "cell_type": "code",
   "execution_count": 13,
   "metadata": {
    "execution": {
     "iopub.execute_input": "2022-12-20T09:05:42.670380Z",
     "iopub.status.busy": "2022-12-20T09:05:42.668454Z",
     "iopub.status.idle": "2022-12-20T09:05:42.688449Z",
     "shell.execute_reply": "2022-12-20T09:05:42.687484Z",
     "shell.execute_reply.started": "2022-12-20T09:05:42.670343Z"
    }
   },
   "outputs": [],
   "source": [
    "# Creating a CNN class\n",
    "class CNN(nn.Module):\n",
    "#  Determine what layers and their order in CNN object \n",
    "    def __init__(self, num_classes):\n",
    "        super(CNN, self).__init__()\n",
    "        self.conv1 = nn.Conv2d(in_channels=3, out_channels=32, kernel_size=3)\n",
    "        self.conv2 = nn.Conv2d(in_channels=32, out_channels=32, kernel_size=3)\n",
    "        self.maxpool1 = nn.MaxPool2d(kernel_size = 2, stride = 2)\n",
    "        \n",
    "        self.conv3 = nn.Conv2d(in_channels=32, out_channels=64, kernel_size=3)\n",
    "        self.conv4 = nn.Conv2d(in_channels=64, out_channels=64, kernel_size=3)\n",
    "        self.maxpool2 = nn.MaxPool2d(kernel_size = 2, stride = 2)\n",
    "        \n",
    "        self.fc1 = nn.Linear(1600, 128)\n",
    "        self.relu = nn.ReLU()\n",
    "        self.fc2 = nn.Linear(128, num_classes)\n",
    "        self.logSoftmax = nn.LogSoftmax(dim=1)\n",
    "    \n",
    "    # moving data through the model layers   \n",
    "    def forward(self, x):\n",
    "        out = self.conv1(x)\n",
    "        out = self.conv2(out)\n",
    "        out = self.maxpool1(out)\n",
    "        \n",
    "        out = self.conv3(out)\n",
    "        out = self.conv4(out)\n",
    "        out = self.maxpool2(out)\n",
    "                \n",
    "        out = out.reshape(out.size(0), -1)\n",
    "        \n",
    "        out = self.fc1(out)\n",
    "        out = self.relu(out)\n",
    "        out = self.fc2(out)\n",
    "        out = self.logSoftmax(out)\n",
    "        return out"
   ]
  },
  {
   "cell_type": "code",
   "execution_count": 14,
   "metadata": {
    "execution": {
     "iopub.execute_input": "2022-12-20T09:05:42.699393Z",
     "iopub.status.busy": "2022-12-20T09:05:42.696789Z",
     "iopub.status.idle": "2022-12-20T09:05:42.705319Z",
     "shell.execute_reply": "2022-12-20T09:05:42.704288Z",
     "shell.execute_reply.started": "2022-12-20T09:05:42.699355Z"
    }
   },
   "outputs": [],
   "source": [
    "#defining the num of calsses as 10 because CIFAR 10 has 10 classes \n",
    "num_classes = 10"
   ]
  },
  {
   "cell_type": "code",
   "execution_count": 15,
   "metadata": {
    "execution": {
     "iopub.execute_input": "2022-12-20T09:05:42.712598Z",
     "iopub.status.busy": "2022-12-20T09:05:42.710042Z",
     "iopub.status.idle": "2022-12-20T09:05:44.198973Z",
     "shell.execute_reply": "2022-12-20T09:05:44.197833Z",
     "shell.execute_reply.started": "2022-12-20T09:05:42.712560Z"
    }
   },
   "outputs": [
    {
     "data": {
      "text/plain": [
       "CNN(\n",
       "  (conv1): Conv2d(3, 32, kernel_size=(3, 3), stride=(1, 1))\n",
       "  (conv2): Conv2d(32, 32, kernel_size=(3, 3), stride=(1, 1))\n",
       "  (maxpool1): MaxPool2d(kernel_size=2, stride=2, padding=0, dilation=1, ceil_mode=False)\n",
       "  (conv3): Conv2d(32, 64, kernel_size=(3, 3), stride=(1, 1))\n",
       "  (conv4): Conv2d(64, 64, kernel_size=(3, 3), stride=(1, 1))\n",
       "  (maxpool2): MaxPool2d(kernel_size=2, stride=2, padding=0, dilation=1, ceil_mode=False)\n",
       "  (fc1): Linear(in_features=1600, out_features=128, bias=True)\n",
       "  (relu): ReLU()\n",
       "  (fc2): Linear(in_features=128, out_features=10, bias=True)\n",
       "  (logSoftmax): LogSoftmax(dim=1)\n",
       ")"
      ]
     },
     "execution_count": 15,
     "metadata": {},
     "output_type": "execute_result"
    }
   ],
   "source": [
    "model = CNN(num_classes)\n",
    "model.to(device)"
   ]
  },
  {
   "cell_type": "code",
   "execution_count": 16,
   "metadata": {
    "execution": {
     "iopub.execute_input": "2022-12-20T09:05:44.201053Z",
     "iopub.status.busy": "2022-12-20T09:05:44.200670Z",
     "iopub.status.idle": "2022-12-20T09:05:44.207787Z",
     "shell.execute_reply": "2022-12-20T09:05:44.206553Z",
     "shell.execute_reply.started": "2022-12-20T09:05:44.201016Z"
    }
   },
   "outputs": [],
   "source": [
    "#defining the batch size\n",
    "batch_size = 64\n",
    "#defing our learning rate \n",
    "learning_rate = 0.0005\n",
    "#defining the no of epochs we need to run\n",
    "num_epochs = 30\n",
    "#defining loss fuction\n",
    "loss_fn = nn.CrossEntropyLoss()\n",
    "#defining adam optimizer\n",
    "optimizer = torch.optim.SGD(model.parameters(), lr=learning_rate ,weight_decay = 0.001, momentum = 0.9)\n",
    "# used for gradient scailing, prevents small gradients from vanishing or hitting 0\n",
    "scaler = torch.cuda.amp.GradScaler()"
   ]
  },
  {
   "cell_type": "code",
   "execution_count": 17,
   "metadata": {
    "execution": {
     "iopub.execute_input": "2022-12-20T09:05:44.209720Z",
     "iopub.status.busy": "2022-12-20T09:05:44.209262Z",
     "iopub.status.idle": "2022-12-20T09:12:55.399928Z",
     "shell.execute_reply": "2022-12-20T09:12:55.398390Z",
     "shell.execute_reply.started": "2022-12-20T09:05:44.209681Z"
    }
   },
   "outputs": [
    {
     "name": "stdout",
     "output_type": "stream",
     "text": [
      "EPOCH: 1/30\n",
      "Training loss: 22.8562, Training accuracy: 0.2519\n",
      "\n",
      "Validation loss: 0.0302, Validation accuracy: 0.3162\n",
      "\n",
      "EPOCH: 2/30\n",
      "Training loss: 19.4965, Training accuracy: 0.3729\n",
      "\n",
      "Validation loss: 0.0272, Validation accuracy: 0.3906\n",
      "\n",
      "EPOCH: 3/30\n",
      "Training loss: 17.6338, Training accuracy: 0.4369\n",
      "\n",
      "Validation loss: 0.0248, Validation accuracy: 0.4456\n",
      "\n",
      "EPOCH: 4/30\n",
      "Training loss: 16.1240, Training accuracy: 0.4838\n",
      "\n",
      "Validation loss: 0.0231, Validation accuracy: 0.4908\n",
      "\n",
      "EPOCH: 5/30\n",
      "Training loss: 15.2001, Training accuracy: 0.5138\n",
      "\n",
      "Validation loss: 0.0220, Validation accuracy: 0.5112\n",
      "\n",
      "EPOCH: 6/30\n",
      "Training loss: 14.4597, Training accuracy: 0.5395\n",
      "\n",
      "Validation loss: 0.0213, Validation accuracy: 0.5336\n",
      "\n",
      "EPOCH: 7/30\n",
      "Training loss: 13.7985, Training accuracy: 0.5614\n",
      "\n",
      "Validation loss: 0.0208, Validation accuracy: 0.5424\n",
      "\n",
      "EPOCH: 8/30\n",
      "Training loss: 13.2381, Training accuracy: 0.5796\n",
      "\n",
      "Validation loss: 0.0202, Validation accuracy: 0.5618\n",
      "\n",
      "EPOCH: 9/30\n",
      "Training loss: 12.7135, Training accuracy: 0.5961\n",
      "\n",
      "Validation loss: 0.0197, Validation accuracy: 0.5640\n",
      "\n",
      "EPOCH: 10/30\n",
      "Training loss: 12.2387, Training accuracy: 0.6134\n",
      "\n",
      "Validation loss: 0.0194, Validation accuracy: 0.5748\n",
      "\n",
      "EPOCH: 11/30\n",
      "Training loss: 11.8056, Training accuracy: 0.6256\n",
      "\n",
      "Validation loss: 0.0200, Validation accuracy: 0.5662\n",
      "\n",
      "EPOCH: 12/30\n",
      "Training loss: 11.3936, Training accuracy: 0.6416\n",
      "\n",
      "Validation loss: 0.0190, Validation accuracy: 0.5818\n",
      "\n",
      "EPOCH: 13/30\n",
      "Training loss: 10.9806, Training accuracy: 0.6560\n",
      "\n",
      "Validation loss: 0.0182, Validation accuracy: 0.6006\n",
      "\n",
      "EPOCH: 14/30\n",
      "Training loss: 10.6340, Training accuracy: 0.6658\n",
      "\n",
      "Validation loss: 0.0179, Validation accuracy: 0.6104\n",
      "\n",
      "EPOCH: 15/30\n",
      "Training loss: 10.2329, Training accuracy: 0.6802\n",
      "\n",
      "Validation loss: 0.0178, Validation accuracy: 0.6148\n",
      "\n",
      "EPOCH: 16/30\n",
      "Training loss: 9.9450, Training accuracy: 0.6884\n",
      "\n",
      "Validation loss: 0.0176, Validation accuracy: 0.6150\n",
      "\n",
      "EPOCH: 17/30\n",
      "Training loss: 9.5520, Training accuracy: 0.6998\n",
      "\n",
      "Validation loss: 0.0179, Validation accuracy: 0.6162\n",
      "\n",
      "EPOCH: 18/30\n",
      "Training loss: 9.2926, Training accuracy: 0.7108\n",
      "\n",
      "Validation loss: 0.0174, Validation accuracy: 0.6264\n",
      "\n",
      "EPOCH: 19/30\n",
      "Training loss: 8.9631, Training accuracy: 0.7190\n",
      "\n",
      "Validation loss: 0.0174, Validation accuracy: 0.6326\n",
      "\n",
      "EPOCH: 20/30\n",
      "Training loss: 8.6317, Training accuracy: 0.7324\n",
      "\n",
      "Validation loss: 0.0172, Validation accuracy: 0.6334\n",
      "\n",
      "EPOCH: 21/30\n",
      "Training loss: 8.3477, Training accuracy: 0.7381\n",
      "\n",
      "Validation loss: 0.0172, Validation accuracy: 0.6394\n",
      "\n",
      "EPOCH: 22/30\n",
      "Training loss: 8.0731, Training accuracy: 0.7466\n",
      "\n",
      "Validation loss: 0.0169, Validation accuracy: 0.6412\n",
      "\n",
      "EPOCH: 23/30\n",
      "Training loss: 7.7455, Training accuracy: 0.7598\n",
      "\n",
      "Validation loss: 0.0173, Validation accuracy: 0.6372\n",
      "\n",
      "EPOCH: 24/30\n",
      "Training loss: 7.4654, Training accuracy: 0.7663\n",
      "\n",
      "Validation loss: 0.0170, Validation accuracy: 0.6488\n",
      "\n",
      "EPOCH: 25/30\n",
      "Training loss: 7.2027, Training accuracy: 0.7753\n",
      "\n",
      "Validation loss: 0.0176, Validation accuracy: 0.6416\n",
      "\n",
      "EPOCH: 26/30\n",
      "Training loss: 6.9161, Training accuracy: 0.7842\n",
      "\n",
      "Validation loss: 0.0177, Validation accuracy: 0.6396\n",
      "\n",
      "EPOCH: 27/30\n",
      "Training loss: 6.6863, Training accuracy: 0.7894\n",
      "\n",
      "Validation loss: 0.0179, Validation accuracy: 0.6446\n",
      "\n",
      "EPOCH: 28/30\n",
      "Training loss: 6.3875, Training accuracy: 0.7990\n",
      "\n",
      "Validation loss: 0.0177, Validation accuracy: 0.6482\n",
      "\n",
      "EPOCH: 29/30\n",
      "Training loss: 6.1486, Training accuracy: 0.8089\n",
      "\n",
      "Validation loss: 0.0182, Validation accuracy: 0.6430\n",
      "\n",
      "EPOCH: 30/30\n",
      "Training loss: 5.8395, Training accuracy: 0.8181\n",
      "\n",
      "Validation loss: 0.0183, Validation accuracy: 0.6506\n",
      "\n"
     ]
    }
   ],
   "source": [
    "total_epochs = [*range(30)]\n",
    "train_loss_per_epoch = []\n",
    "validation_loss_per_epoch = []\n",
    "# Training the model\n",
    "for epoch in range(num_epochs):\n",
    "    print(\"EPOCH: {}/{}\".format(epoch + 1, num_epochs))\n",
    "    model.train()\n",
    "    \n",
    "    training_loss = 0.0\n",
    "    validation_loss = 0.0\n",
    "    \n",
    "    val_correct = 0\n",
    "    train_correct = 0\n",
    "    \n",
    "#Load the dataset using the train loader we defined earlier \n",
    "    for i, (images, labels) in enumerate(train_loader):  \n",
    "        # convert data into tensors based on device (gpu or cpu)\n",
    "        images = images.to(device)\n",
    "        labels = labels.to(device)\n",
    "        \n",
    "        # Forward pass\n",
    "        outputs = model(images)\n",
    "        loss = loss_fn(outputs, labels)\n",
    "        \n",
    "        # Backward and optimize\n",
    "        optimizer.zero_grad()\n",
    "        scaler.scale(loss).backward()\n",
    "        scaler.step(optimizer)\n",
    "        scaler.update()\n",
    "        \n",
    "        training_loss += loss.item()*(len(train_loader))\n",
    "        train_correct += (outputs.argmax(1) == labels).type(torch.float).sum().item()\n",
    "        \n",
    "    training_loss = training_loss/len(train_loader.dataset)\n",
    "    train_loss_per_epoch.append(training_loss)\n",
    "    train_correct = train_correct / SizeOfTrain\n",
    "    print(\"Training loss: {:.4f}, Training accuracy: {:.4f}\\n\".format(training_loss, train_correct))\n",
    "    \n",
    "    \n",
    "    with torch.no_grad():\n",
    "        model.eval()\n",
    "        for (img, lbl) in val_loader:\n",
    "            (img, lbl) = (img.to(device), lbl.to(device))\n",
    "            pred = model(img)\n",
    "            validation_loss += loss_fn(pred, lbl)\n",
    "            val_correct += (pred.argmax(1) == lbl).type(torch.float).sum().item()\n",
    "    \n",
    "    validation_loss = validation_loss / SizeOfValidation\n",
    "    validation_loss_per_epoch.append(validation_loss)\n",
    "    val_correct = val_correct / SizeOfValidation\n",
    "    print(\"Validation loss: {:.4f}, Validation accuracy: {:.4f}\\n\".format(validation_loss, val_correct))"
   ]
  },
  {
   "cell_type": "code",
   "execution_count": 18,
   "metadata": {
    "execution": {
     "iopub.execute_input": "2022-12-20T09:12:55.403523Z",
     "iopub.status.busy": "2022-12-20T09:12:55.401638Z",
     "iopub.status.idle": "2022-12-20T09:12:55.409826Z",
     "shell.execute_reply": "2022-12-20T09:12:55.408470Z",
     "shell.execute_reply.started": "2022-12-20T09:12:55.403482Z"
    }
   },
   "outputs": [
    {
     "name": "stdout",
     "output_type": "stream",
     "text": [
      "Accuracy of the model is =  65.06\n"
     ]
    }
   ],
   "source": [
    "print(\"Accuracy of the model is = \", val_correct * 100)"
   ]
  },
  {
   "cell_type": "code",
   "execution_count": 19,
   "metadata": {
    "execution": {
     "iopub.execute_input": "2022-12-20T09:12:55.411791Z",
     "iopub.status.busy": "2022-12-20T09:12:55.411287Z",
     "iopub.status.idle": "2022-12-20T09:12:55.420989Z",
     "shell.execute_reply": "2022-12-20T09:12:55.419994Z",
     "shell.execute_reply.started": "2022-12-20T09:12:55.411753Z"
    }
   },
   "outputs": [],
   "source": [
    "val_array = []\n",
    "for i in validation_loss_per_epoch:\n",
    "    val_array.append(i.cpu().data.numpy())"
   ]
  },
  {
   "cell_type": "code",
   "execution_count": 20,
   "metadata": {
    "execution": {
     "iopub.execute_input": "2022-12-20T09:12:55.422887Z",
     "iopub.status.busy": "2022-12-20T09:12:55.422516Z",
     "iopub.status.idle": "2022-12-20T09:12:55.629193Z",
     "shell.execute_reply": "2022-12-20T09:12:55.628257Z",
     "shell.execute_reply.started": "2022-12-20T09:12:55.422851Z"
    }
   },
   "outputs": [
    {
     "data": {
      "image/png": "[encoded data removed]",
      "text/plain": [
       "<Figure size 432x288 with 1 Axes>"
      ]
     },
     "metadata": {
      "needs_background": "light"
     },
     "output_type": "display_data"
    }
   ],
   "source": [
    "plt.plot(total_epochs, train_loss_per_epoch, label = \"Training Loss\")\n",
    "plt.plot(total_epochs, val_array, label = \"Validation Loss\")\n",
    "plt.legend()\n",
    "plt.xlabel(\"Epoch\")\n",
    "plt.ylabel(\"Loss\")\n",
    "plt.title(\"Model performance\")\n",
    "plt.show()"
   ]
  },
  {
   "cell_type": "code",
   "execution_count": 22,
   "metadata": {
    "execution": {
     "iopub.execute_input": "2022-12-20T09:12:58.065040Z",
     "iopub.status.busy": "2022-12-20T09:12:58.064628Z",
     "iopub.status.idle": "2022-12-20T09:13:00.496484Z",
     "shell.execute_reply": "2022-12-20T09:13:00.495462Z",
     "shell.execute_reply.started": "2022-12-20T09:12:58.065000Z"
    }
   },
   "outputs": [],
   "source": [
    "Grount_truth = []\n",
    "Predicted_label = []\n",
    "with torch.no_grad():\n",
    "    # loop over the test set\n",
    "    for (image, label) in test_loader:\n",
    "        Ground_label = label.numpy()[0]\n",
    "        Grount_truth.append(Ground_label)\n",
    "        # send the input to the device and make predictions on it\n",
    "        image = image.to(device)\n",
    "        pred = model(image)\n",
    "        # find the class label index with the largest corresponding probability\n",
    "        pred_label = pred.argmax(axis=1).cpu().numpy()[0]\n",
    "        Predicted_label.append(pred_label)"
   ]
  },
  {
   "cell_type": "code",
   "execution_count": 23,
   "metadata": {
    "execution": {
     "iopub.execute_input": "2022-12-20T09:13:00.498503Z",
     "iopub.status.busy": "2022-12-20T09:13:00.498092Z",
     "iopub.status.idle": "2022-12-20T09:13:00.510737Z",
     "shell.execute_reply": "2022-12-20T09:13:00.509403Z",
     "shell.execute_reply.started": "2022-12-20T09:13:00.498464Z"
    }
   },
   "outputs": [
    {
     "name": "stdout",
     "output_type": "stream",
     "text": [
      "              precision    recall  f1-score   support\n",
      "\n",
      "    airplane       0.82      0.82      0.82        11\n",
      "  automobile       0.75      0.75      0.75        16\n",
      "        bird       0.48      0.60      0.53        20\n",
      "         cat       0.60      0.75      0.67        12\n",
      "        deer       0.62      0.50      0.56        20\n",
      "         dog       0.50      0.44      0.47        16\n",
      "        frog       0.85      0.58      0.69        19\n",
      "       horse       0.63      0.60      0.62        20\n",
      "        ship       0.64      0.70      0.67        10\n",
      "       truck       0.53      0.69      0.60        13\n",
      "\n",
      "    accuracy                           0.62       157\n",
      "   macro avg       0.64      0.64      0.64       157\n",
      "weighted avg       0.64      0.62      0.62       157\n",
      "\n"
     ]
    }
   ],
   "source": [
    "print(classification_report(Grount_truth,Predicted_label,target_names=classes))"
   ]
  },
  {
   "cell_type": "code",
   "execution_count": 24,
   "metadata": {
    "execution": {
     "iopub.execute_input": "2022-12-20T09:13:00.512811Z",
     "iopub.status.busy": "2022-12-20T09:13:00.512437Z",
     "iopub.status.idle": "2022-12-20T09:13:01.096200Z",
     "shell.execute_reply": "2022-12-20T09:13:01.095202Z",
     "shell.execute_reply.started": "2022-12-20T09:13:00.512774Z"
    }
   },
   "outputs": [
    {
     "data": {
      "image/png": "[encoded data removed]",
      "text/plain": [
       "<Figure size 1080x720 with 2 Axes>"
      ]
     },
     "metadata": {
      "needs_background": "light"
     },
     "output_type": "display_data"
    }
   ],
   "source": [
    "cm = confusion_matrix(Grount_truth,Predicted_label)\n",
    "fig , ax= plt.subplots(figsize=(15, 10))\n",
    "sns.heatmap(cm, cmap=plt.cm.Blues,annot = True,ax=ax)\n",
    "ax.set_xlabel('Predicted labels');ax.set_ylabel('True labels')\n",
    "ax.set_title('Confusion Matrix')\n",
    "ax.xaxis.set_ticklabels(classes)\n",
    "ax.yaxis.set_ticklabels(classes)\n",
    "plt.show()"
   ]
  },
  {
   "cell_type": "code",
   "execution_count": null,
   "metadata": {},
   "outputs": [],
   "source": []
  }
 ],
 "metadata": {
  "kernelspec": {
   "display_name": "Python 3 (ipykernel)",
   "language": "python",
   "name": "python3"
  },
  "language_info": {
   "codemirror_mode": {
    "name": "ipython",
    "version": 3
   },
   "file_extension": ".py",
   "mimetype": "text/x-python",
   "name": "python",
   "nbconvert_exporter": "python",
   "pygments_lexer": "ipython3",
   "version": "3.9.7"
  }
 },
 "nbformat": 4,
 "nbformat_minor": 4
}
